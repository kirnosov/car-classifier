{
 "cells": [
  {
   "cell_type": "markdown",
   "metadata": {},
   "source": [
    "# Cars dataset\n",
    "\n",
    "Here I make the [cars dataset](http://ai.stanford.edu/~jkrause/cars/car_dataset.html) usable.\n",
    "The dataset has 16,185 images classified into 196 different classes of car. Classes are defined as specific makes, year, models.\n",
    "\n",
    "### Reading the label file"
   ]
  },
  {
   "cell_type": "code",
   "execution_count": 37,
   "metadata": {},
   "outputs": [],
   "source": [
    "from scipy.io import loadmat\n",
    "import os\n",
    "import pickle"
   ]
  },
  {
   "cell_type": "code",
   "execution_count": 38,
   "metadata": {},
   "outputs": [
    {
     "data": {
      "text/plain": [
       "dict_keys(['__header__', '__version__', '__globals__', 'annotations', 'class_names'])"
      ]
     },
     "execution_count": 38,
     "metadata": {},
     "output_type": "execute_result"
    }
   ],
   "source": [
    "labels = loadmat(os.path.join('data', 'cars_dataset', 'cars_annos.mat'))\n",
    "labels.keys()"
   ]
  },
  {
   "cell_type": "code",
   "execution_count": 39,
   "metadata": {},
   "outputs": [
    {
     "name": "stdout",
     "output_type": "stream",
     "text": [
      "annotations shape: (16185,)\n",
      "class_names shape: (196,)\n"
     ]
    }
   ],
   "source": [
    "annotations = labels['annotations'].flatten()\n",
    "class_names = labels['class_names'].flatten()\n",
    "print('annotations shape: {}' .format(annotations.shape))\n",
    "print('class_names shape: {}' .format(class_names.shape))"
   ]
  },
  {
   "cell_type": "markdown",
   "metadata": {},
   "source": [
    "### Understanding the components of the labels\n",
    "The annotations have image_name and class_name in indices 0 and 5, respectively.\n",
    "The other annotations are tied to bounding boxes (1-4).\n",
    "I am not sure what annotation 6 is for."
   ]
  },
  {
   "cell_type": "code",
   "execution_count": 40,
   "metadata": {},
   "outputs": [
    {
     "data": {
      "text/plain": [
       "(array(['car_ims/000001.jpg'], \n",
       "      dtype='<U18'), array([[112]], dtype=uint8), array([[7]], dtype=uint8), array([[853]], dtype=uint16), array([[717]], dtype=uint16), array([[1]], dtype=uint8), array([[0]], dtype=uint8))"
      ]
     },
     "execution_count": 40,
     "metadata": {},
     "output_type": "execute_result"
    }
   ],
   "source": [
    "annotations[0]"
   ]
  },
  {
   "cell_type": "code",
   "execution_count": 41,
   "metadata": {},
   "outputs": [
    {
     "name": "stdout",
     "output_type": "stream",
     "text": [
      "Image name: ['car_ims/000001.jpg'], class label: [[1]]\n",
      "Image name: ['car_ims/000089.jpg'], class label: [[1]]\n",
      "Image name: ['car_ims/000090.jpg'], class label: [[2]]\n"
     ]
    }
   ],
   "source": [
    "print('Image name: {}, class label: {}' .format(annotations[0][0], annotations[0][5]))\n",
    "print('Image name: {}, class label: {}' .format(annotations[88][0], annotations[88][5]))\n",
    "print('Image name: {}, class label: {}' .format(annotations[89][0], annotations[89][5]))"
   ]
  },
  {
   "cell_type": "markdown",
   "metadata": {},
   "source": [
    "From visual inspection it looks like the class labels correspond to class_names indexes.\n",
    "__class_names is 1-indexed__"
   ]
  },
  {
   "cell_type": "code",
   "execution_count": 42,
   "metadata": {},
   "outputs": [
    {
     "data": {
      "text/plain": [
       "array(['AM General Hummer SUV 2000'], \n",
       "      dtype='<U26')"
      ]
     },
     "execution_count": 42,
     "metadata": {},
     "output_type": "execute_result"
    }
   ],
   "source": [
    "class_names[0]"
   ]
  },
  {
   "cell_type": "code",
   "execution_count": 43,
   "metadata": {},
   "outputs": [
    {
     "data": {
      "text/plain": [
       "array(['Acura RL Sedan 2012'], \n",
       "      dtype='<U19')"
      ]
     },
     "execution_count": 43,
     "metadata": {},
     "output_type": "execute_result"
    }
   ],
   "source": [
    "class_names[1]"
   ]
  },
  {
   "cell_type": "code",
   "execution_count": 44,
   "metadata": {},
   "outputs": [
    {
     "data": {
      "text/plain": [
       "['AM General Hummer SUV 2000', 'Acura RL Sedan 2012', 'Acura TL Sedan 2012']"
      ]
     },
     "execution_count": 44,
     "metadata": {},
     "output_type": "execute_result"
    }
   ],
   "source": [
    "# convert class_names into list for ease of indexing\n",
    "label_full_list = [name[0] for name in class_names]\n",
    "label_full_list[0:3]"
   ]
  },
  {
   "cell_type": "markdown",
   "metadata": {},
   "source": [
    "### Cleaning the labels\n",
    "1) Provide naming that cleanly separates make, model & year.\n",
    "\n",
    "2) Pair up each image name with its corresponding label."
   ]
  },
  {
   "cell_type": "code",
   "execution_count": 45,
   "metadata": {},
   "outputs": [
    {
     "data": {
      "text/plain": [
       "[('AM', 'General_Hummer_SUV', '2000'),\n",
       " ('Acura', 'RL_Sedan', '2012'),\n",
       " ('Acura', 'TL_Sedan', '2012'),\n",
       " ('Acura', 'TL_Type_S', '2008'),\n",
       " ('Acura', 'TSX_Sedan', '2012'),\n",
       " ('Acura', 'Integra_Type_R', '2001'),\n",
       " ('Acura', 'ZDX_Hatchback', '2012'),\n",
       " ('Aston_Martin', 'V8_Vantage_Convertible', '2012'),\n",
       " ('Aston_Martin', 'V8_Vantage_Coupe', '2012'),\n",
       " ('Aston_Martin', 'Virage_Convertible', '2012')]"
      ]
     },
     "execution_count": 45,
     "metadata": {},
     "output_type": "execute_result"
    }
   ],
   "source": [
    "label_tuples = []\n",
    "for name in label_full_list:\n",
    "    words = name.split(' ')\n",
    "    make = words[0]\n",
    "    if make in ['Aston', 'Land']:\n",
    "        make = '_'.join(words[:2])\n",
    "        model = '_'.join(words[2:-1])\n",
    "    else:\n",
    "        model = '_'.join(words[1:-1])\n",
    "    year = words [-1]\n",
    "    if '-' in make:\n",
    "#         print(make)\n",
    "        make = make.replace('-', '_')\n",
    "#         print(make)\n",
    "    if '-' in model:\n",
    "#         print(model)\n",
    "        model = model.replace('-', '_')\n",
    "#         print(model)\n",
    "    tup = (make, model, year)\n",
    "    label_tuples.append(tup)\n",
    "\n",
    "label_tuples[0:10]"
   ]
  },
  {
   "cell_type": "code",
   "execution_count": 46,
   "metadata": {},
   "outputs": [
    {
     "data": {
      "text/plain": [
       "['AM-General_Hummer_SUV-2000',\n",
       " 'Acura-RL_Sedan-2012',\n",
       " 'Acura-TL_Sedan-2012',\n",
       " 'Acura-TL_Type_S-2008',\n",
       " 'Acura-TSX_Sedan-2012',\n",
       " 'Acura-Integra_Type_R-2001',\n",
       " 'Acura-ZDX_Hatchback-2012',\n",
       " 'Aston_Martin-V8_Vantage_Convertible-2012',\n",
       " 'Aston_Martin-V8_Vantage_Coupe-2012',\n",
       " 'Aston_Martin-Virage_Convertible-2012']"
      ]
     },
     "execution_count": 46,
     "metadata": {},
     "output_type": "execute_result"
    }
   ],
   "source": [
    "label_list = ['-'.join(tup) for tup in label_tuples]\n",
    "label_list[0:10]"
   ]
  },
  {
   "cell_type": "code",
   "execution_count": 47,
   "metadata": {},
   "outputs": [],
   "source": [
    "clean_pairs = [(annotation[0][0], label_list[annotation[5][0][0]-1]) \n",
    "               for annotation in annotations]\n",
    "clean_pairs = [(tup[0].strip('car_ims/'), tup[1]) for tup in clean_pairs]"
   ]
  },
  {
   "cell_type": "code",
   "execution_count": 48,
   "metadata": {},
   "outputs": [
    {
     "data": {
      "text/plain": [
       "(('000001.jpg', 'AM-General_Hummer_SUV-2000'),\n",
       " ('000089.jpg', 'AM-General_Hummer_SUV-2000'),\n",
       " ('000090.jpg', 'Acura-RL_Sedan-2012'),\n",
       " ('016185.jpg', 'smart-fortwo_Convertible-2012'))"
      ]
     },
     "execution_count": 48,
     "metadata": {},
     "output_type": "execute_result"
    }
   ],
   "source": [
    "clean_pairs[0], clean_pairs[88], clean_pairs[89], clean_pairs[-1]"
   ]
  },
  {
   "cell_type": "markdown",
   "metadata": {},
   "source": [
    "### Saving the data"
   ]
  },
  {
   "cell_type": "code",
   "execution_count": 55,
   "metadata": {},
   "outputs": [
    {
     "name": "stdout",
     "output_type": "stream",
     "text": [
      "file already exists\n"
     ]
    }
   ],
   "source": [
    "import cars_utils\n",
    "\n",
    "save_dir = os.path.join('data', 'notebooks', '1_make_dataset_usable')\n",
    "dicto_to_save = {\n",
    "    'clean_pairs': clean_pairs,\n",
    "    'label_tuples': label_tuples\n",
    "}\n",
    "\n",
    "cars_utils.pickle_variable_to_path(dicto_to_save, 'pair_dicto.pkl', save_dir)"
   ]
  }
 ],
 "metadata": {
  "kernelspec": {
   "display_name": "Python 3",
   "language": "python",
   "name": "python3"
  },
  "language_info": {
   "codemirror_mode": {
    "name": "ipython",
    "version": 3
   },
   "file_extension": ".py",
   "mimetype": "text/x-python",
   "name": "python",
   "nbconvert_exporter": "python",
   "pygments_lexer": "ipython3",
   "version": "3.6.3"
  }
 },
 "nbformat": 4,
 "nbformat_minor": 2
}
