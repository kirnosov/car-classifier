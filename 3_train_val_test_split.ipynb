{
 "cells": [
  {
   "cell_type": "markdown",
   "metadata": {},
   "source": [
    "# Splitting the dataset into train validation and test sets for keras"
   ]
  },
  {
   "cell_type": "code",
   "execution_count": 16,
   "metadata": {},
   "outputs": [],
   "source": [
    "import os\n",
    "import pickle\n",
    "\n",
    "import numpy as np\n",
    "\n",
    "from sklearn.preprocessing import MultiLabelBinarizer\n",
    "from sklearn.model_selection import train_test_split"
   ]
  },
  {
   "cell_type": "code",
   "execution_count": 3,
   "metadata": {},
   "outputs": [],
   "source": [
    "file_path = os.path.join('data', 'notebooks', '1_make_dataset_usable', 'pair_dicto.pkl')\n",
    "with open(file_path, 'rb') as file:\n",
    "    pair_dicto = pickle.load(file)"
   ]
  },
  {
   "cell_type": "code",
   "execution_count": 4,
   "metadata": {},
   "outputs": [
    {
     "name": "stdout",
     "output_type": "stream",
     "text": [
      "number of pairs 16185\n",
      "first pair: ('000001.jpg', 'AM-General_Hummer_SUV-2000')\n"
     ]
    }
   ],
   "source": [
    "pairs = pair_dicto['clean_pairs']\n",
    "print('number of pairs', len(pairs))\n",
    "print('first pair:', pairs[0])"
   ]
  },
  {
   "cell_type": "markdown",
   "metadata": {},
   "source": [
    "Make the pairs into prefixes and binarized labels that sklearn can use to randomly generate training, validation, and test sets."
   ]
  },
  {
   "cell_type": "code",
   "execution_count": 6,
   "metadata": {},
   "outputs": [
    {
     "name": "stdout",
     "output_type": "stream",
     "text": [
      "first 5 prefixes: ['000001', '000002', '000003', '000004', '000005']\n",
      "first 5 labels: ['AM-General_Hummer_SUV-2000', 'AM-General_Hummer_SUV-2000', 'AM-General_Hummer_SUV-2000', 'AM-General_Hummer_SUV-2000', 'AM-General_Hummer_SUV-2000']\n",
      "number of unique labels: 196\n"
     ]
    }
   ],
   "source": [
    "prefixes, labels = zip(*pairs)\n",
    "prefixes = [prefix.rstrip('.jpg') for prefix in prefixes]\n",
    "labels = list(labels)\n",
    "label_set = set(labels)\n",
    "print('first 5 prefixes:', prefixes[:5])\n",
    "print('first 5 labels:', labels[:5])\n",
    "print('number of unique labels:', len(label_set))"
   ]
  },
  {
   "cell_type": "code",
   "execution_count": 9,
   "metadata": {},
   "outputs": [],
   "source": [
    "# This weird list of label sets is so that sklearn works\n",
    "sklearn_label_setlist = [set([label]) for label in labels]"
   ]
  },
  {
   "cell_type": "code",
   "execution_count": 11,
   "metadata": {},
   "outputs": [
    {
     "name": "stdout",
     "output_type": "stream",
     "text": [
      "labels_arr shape: (16185, 196)\n"
     ]
    }
   ],
   "source": [
    "encoder = MultiLabelBinarizer()\n",
    "labels_array = encoder.fit_transform(sklearn_label_setlist)\n",
    "print('labels_arr shape:', labels_array.shape)"
   ]
  },
  {
   "cell_type": "markdown",
   "metadata": {},
   "source": [
    "This part shows how you can go from binary label back to human-readable label"
   ]
  },
  {
   "cell_type": "code",
   "execution_count": 13,
   "metadata": {},
   "outputs": [
    {
     "name": "stdout",
     "output_type": "stream",
     "text": [
      "[[0 0 0 0 0 0 0 0 0 0 0 0 0 1 0 0 0 0 0 0 0 0 0 0 0 0 0 0 0 0 0 0 0 0 0 0 0\n",
      "  0 0 0 0 0 0 0 0 0 0 0 0 0 0 0 0 0 0 0 0 0 0 0 0 0 0 0 0 0 0 0 0 0 0 0 0 0\n",
      "  0 0 0 0 0 0 0 0 0 0 0 0 0 0 0 0 0 0 0 0 0 0 0 0 0 0 0 0 0 0 0 0 0 0 0 0 0\n",
      "  0 0 0 0 0 0 0 0 0 0 0 0 0 0 0 0 0 0 0 0 0 0 0 0 0 0 0 0 0 0 0 0 0 0 0 0 0\n",
      "  0 0 0 0 0 0 0 0 0 0 0 0 0 0 0 0 0 0 0 0 0 0 0 0 0 0 0 0 0 0 0 0 0 0 0 0 0\n",
      "  0 0 0 0 0 0 0 0 0 0 0]]\n",
      "Audi-A5_Coupe-2012\n"
     ]
    }
   ],
   "source": [
    "# Need to reshape so that it has (n_samples, n_features) rather than just (n_features,) \n",
    "feed_back = np.reshape(labels_array[1000], (1, -1)) \n",
    "print(feed_back)\n",
    "print(encoder.inverse_transform(feed_back)[0][0])"
   ]
  },
  {
   "cell_type": "markdown",
   "metadata": {},
   "source": [
    "### Split into 70% training,  15% validation, and 15% test sets using sklearn"
   ]
  },
  {
   "cell_type": "code",
   "execution_count": 20,
   "metadata": {},
   "outputs": [
    {
     "name": "stdout",
     "output_type": "stream",
     "text": [
      "train samples: 11329\n",
      "validation samples: 2428\n",
      "test samples: 2428\n"
     ]
    }
   ],
   "source": [
    "train_x, val_test_x, train_y, val_test_y = train_test_split(prefixes, labels_array, \n",
    "                                                            test_size=0.3,\n",
    "                                                            random_state=7)\n",
    "print('train samples:', len(train_x))\n",
    "\n",
    "validation_x, test_x, validation_y, test_y = train_test_split(val_test_x, val_test_y,\n",
    "                                                              test_size=0.5,\n",
    "                                                              random_state=9)\n",
    "print('validation samples: {}\\ntest samples: {}' .format(len(validation_x), len(test_x)))"
   ]
  },
  {
   "cell_type": "code",
   "execution_count": null,
   "metadata": {},
   "outputs": [],
   "source": []
  }
 ],
 "metadata": {
  "kernelspec": {
   "display_name": "Python 3",
   "language": "python",
   "name": "python3"
  },
  "language_info": {
   "codemirror_mode": {
    "name": "ipython",
    "version": 3
   },
   "file_extension": ".py",
   "mimetype": "text/x-python",
   "name": "python",
   "nbconvert_exporter": "python",
   "pygments_lexer": "ipython3",
   "version": "3.6.3"
  }
 },
 "nbformat": 4,
 "nbformat_minor": 2
}
